{
 "cells": [
  {
   "cell_type": "code",
   "execution_count": 4,
   "metadata": {},
   "outputs": [],
   "source": [
    "# importing libraries\n",
    "import pandas as pd\n",
    "import numpy as np\n",
    "import matplotlib.pyplot as plt\n",
    "import seaborn as sns\n",
    "import itertools\n",
    "%matplotlib inline \n",
    "\n",
    "# preprocessing\n",
    "from sklearn.preprocessing import StandardScaler\n",
    "\n",
    "# models\n",
    "from sklearn.linear_model import LogisticRegression\n",
    "from sklearn.neighbors import KNeighborsClassifier\n",
    "from sklearn.tree import DecisionTreeClassifier\n",
    "from sklearn.svm import SVC\n",
    "\n",
    "# model tuning\n",
    "from sklearn.model_selection import train_test_split\n",
    "from sklearn.model_selection import GridSearchCV\n",
    "from sklearn.model_selection import StratifiedKFold\n",
    "\n",
    "# ensembles\n",
    "from sklearn.ensemble import RandomForestClassifier\n",
    "from sklearn.ensemble import BaggingClassifier\n",
    "from sklearn.ensemble import AdaBoostClassifier\n",
    "from sklearn.ensemble import VotingClassifier\n",
    "from sklearn.ensemble import GradientBoostingClassifier\n",
    "\n",
    "\n",
    "# class imbalance\n",
    "from sklearn.dummy import DummyClassifier\n",
    "from sklearn.utils import resample\n",
    "from imblearn.over_sampling import SMOTE\n",
    "from imblearn.under_sampling import TomekLinks\n",
    "\n",
    "# evaluating models\n",
    "from sklearn.metrics import f1_score, precision_score, recall_score, accuracy_score, confusion_matrix\n",
    "\n",
    "import warnings\n",
    "warnings.filterwarnings('ignore')\n",
    "\n",
    "df = pd.read_csv('../data/preprocessed_cutomer_data.csv',index_col=0)\n",
    "extra_features = pd.read_csv('../data/new_features.csv',index_col=0)"
   ]
  },
  {
   "cell_type": "code",
   "execution_count": 5,
   "metadata": {},
   "outputs": [],
   "source": [
    "# train test split\n",
    "X = df.drop(columns=['churn'])\n",
    "y = df['churn']\n",
    "X_train, X_test, y_train, y_test = train_test_split(X,y,test_size=.20,random_state=10)"
   ]
  },
  {
   "cell_type": "code",
   "execution_count": 6,
   "metadata": {},
   "outputs": [],
   "source": [
    "# scaling\n",
    "scaler = StandardScaler()\n",
    "X_train_scaled = pd.DataFrame(scaler.fit_transform(X_train),columns=[X_train.columns])\n",
    "X_test_scaled = pd.DataFrame(scaler.transform(X_test),columns=[X_test.columns])"
   ]
  },
  {
   "cell_type": "code",
   "execution_count": 7,
   "metadata": {},
   "outputs": [],
   "source": [
    "# using SMOTE to reduce class imbalance\n",
    "sm = SMOTE(random_state=64)\n",
    "X_train_SM, y_train_SM = sm.fit_sample(X_train_scaled, y_train)\n",
    "X_train_SM = pd.DataFrame(X_train_SM,columns=X_train_scaled.columns)"
   ]
  },
  {
   "cell_type": "markdown",
   "metadata": {},
   "source": [
    "## Modeling"
   ]
  },
  {
   "cell_type": "code",
   "execution_count": 1,
   "metadata": {},
   "outputs": [],
   "source": [
    "models_data = []\n",
    "def scoreboard(classifier,y_true, y_pred):\n",
    "    ''' \n",
    "    returns classifier name, params and\n",
    "    calculates and returns Accuracy, F1 score, Precision, and Recall using sklearn\n",
    "    '''    \n",
    "    model_summary = {'Model': classifier,\n",
    "                     'Params': classifier.get_params(),\n",
    "                     'Accuracy':accuracy_score(y_true, y_pred),\n",
    "                     'F1_score':f1_score(y_true, y_pred),\n",
    "                     'Precision':precision_score(y_true, y_pred),\n",
    "                     'Recall':recall_score(y_true, y_pred)}\n",
    "\n",
    "    models_data.append(model_summary)\n",
    "    return model_summary\n",
    "\n",
    "def justscore(y_true, y_pred):\n",
    "    ''' \n",
    "    \n",
    "    calculates and returns Accuracy, F1 score, Precision, and Recall using sklearn\n",
    "    '''    \n",
    "    model_summary = {\n",
    "                     \n",
    "                     'Accuracy':accuracy_score(y_true, y_pred),\n",
    "                     'F1_score':f1_score(y_true, y_pred),\n",
    "                     'Precision':precision_score(y_true, y_pred),\n",
    "                     'Recall':recall_score(y_true, y_pred)}\n",
    "\n",
    "\n",
    "    return model_summary"
   ]
  },
  {
   "cell_type": "code",
   "execution_count": null,
   "metadata": {},
   "outputs": [],
   "source": []
  }
 ],
 "metadata": {
  "kernelspec": {
   "display_name": "Python 3",
   "language": "python",
   "name": "python3"
  },
  "language_info": {
   "codemirror_mode": {
    "name": "ipython",
    "version": 3
   },
   "file_extension": ".py",
   "mimetype": "text/x-python",
   "name": "python",
   "nbconvert_exporter": "python",
   "pygments_lexer": "ipython3",
   "version": "3.7.4"
  }
 },
 "nbformat": 4,
 "nbformat_minor": 2
}
