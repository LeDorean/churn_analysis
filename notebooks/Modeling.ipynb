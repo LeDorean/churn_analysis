{
 "cells": [
  {
   "cell_type": "code",
   "execution_count": 3,
   "metadata": {},
   "outputs": [],
   "source": [
    "# importing libraries\n",
    "import pandas as pd\n",
    "import numpy as np\n",
    "import matplotlib.pyplot as plt\n",
    "import seaborn as sns\n",
    "import itertools\n",
    "%matplotlib inline \n",
    "\n",
    "# preprocessing\n",
    "from sklearn.preprocessing import StandardScaler\n",
    "\n",
    "# models\n",
    "from sklearn.linear_model import LogisticRegression\n",
    "from sklearn.neighbors import KNeighborsClassifier\n",
    "from sklearn.tree import DecisionTreeClassifier\n",
    "from sklearn.svm import SVC\n",
    "\n",
    "# model tuning\n",
    "from sklearn.model_selection import train_test_split\n",
    "from sklearn.model_selection import GridSearchCV\n",
    "from sklearn.model_selection import StratifiedKFold\n",
    "\n",
    "# ensembles\n",
    "from sklearn.ensemble import RandomForestClassifier\n",
    "from sklearn.ensemble import BaggingClassifier\n",
    "from sklearn.ensemble import AdaBoostClassifier\n",
    "from sklearn.ensemble import VotingClassifier\n",
    "from sklearn.ensemble import GradientBoostingClassifier\n",
    "\n",
    "\n",
    "# class imbalance\n",
    "from sklearn.dummy import DummyClassifier\n",
    "from sklearn.utils import resample\n",
    "from imblearn.over_sampling import SMOTE\n",
    "from imblearn.under_sampling import TomekLinks\n",
    "\n",
    "# evaluating models\n",
    "from sklearn.metrics import f1_score, precision_score, recall_score, accuracy_score, confusion_matrix\n",
    "\n",
    "import warnings\n",
    "warnings.filterwarnings('ignore')\n",
    "\n",
    "df = pd.read_csv('../data/preprocessed_cutomer_data.csv',index_col=0)\n",
    "extra_features = pd.read_csv('../data/new_features.csv',index_col=0)"
   ]
  },
  {
   "cell_type": "code",
   "execution_count": 4,
   "metadata": {},
   "outputs": [],
   "source": [
    "# train test split\n",
    "X = df.drop(columns=['churn'])\n",
    "y = df['churn']\n",
    "X_train, X_test, y_train, y_test = train_test_split(X,y,test_size=.20,random_state=10)"
   ]
  },
  {
   "cell_type": "code",
   "execution_count": 5,
   "metadata": {},
   "outputs": [],
   "source": [
    "# scaling\n",
    "scaler = StandardScaler()\n",
    "X_train_scaled = pd.DataFrame(scaler.fit_transform(X_train),columns=[X_train.columns])\n",
    "X_test_scaled = pd.DataFrame(scaler.transform(X_test),columns=[X_test.columns])"
   ]
  },
  {
   "cell_type": "code",
   "execution_count": 6,
   "metadata": {},
   "outputs": [],
   "source": [
    "# using SMOTE to reduce class imbalance\n",
    "sm = SMOTE(random_state=64)\n",
    "X_train_SM, y_train_SM = sm.fit_sample(X_train_scaled, y_train)\n",
    "X_train_SM = pd.DataFrame(X_train_SM,columns=X_train_scaled.columns)"
   ]
  },
  {
   "cell_type": "markdown",
   "metadata": {},
   "source": [
    "## Modeling"
   ]
  },
  {
   "cell_type": "code",
   "execution_count": 7,
   "metadata": {},
   "outputs": [],
   "source": [
    "models_data = []\n",
    "def scoreboard(classifier,y_true, y_pred):\n",
    "    ''' \n",
    "    returns classifier name, params and\n",
    "    calculates and returns Accuracy, F1 score, Precision, and Recall using sklearn\n",
    "    '''    \n",
    "    model_summary = {'Model': classifier,\n",
    "                     'Params': classifier.get_params(),\n",
    "                     'Accuracy':accuracy_score(y_true, y_pred),\n",
    "                     'F1_score':f1_score(y_true, y_pred),\n",
    "                     'Precision':precision_score(y_true, y_pred),\n",
    "                     'Recall':recall_score(y_true, y_pred)}\n",
    "\n",
    "    models_data.append(model_summary)\n",
    "    return model_summary\n",
    "\n",
    "def justscore(y_true, y_pred):\n",
    "    ''' \n",
    "    \n",
    "    calculates and returns Accuracy, F1 score, Precision, and Recall using sklearn\n",
    "    '''    \n",
    "    model_summary = {\n",
    "                     \n",
    "                     'Accuracy':accuracy_score(y_true, y_pred),\n",
    "                     'F1_score':f1_score(y_true, y_pred),\n",
    "                     'Precision':precision_score(y_true, y_pred),\n",
    "                     'Recall':recall_score(y_true, y_pred)}\n",
    "\n",
    "\n",
    "    return model_summary"
   ]
  },
  {
   "cell_type": "markdown",
   "metadata": {},
   "source": [
    "### Logistic Regression"
   ]
  },
  {
   "cell_type": "code",
   "execution_count": 8,
   "metadata": {},
   "outputs": [
    {
     "data": {
      "text/plain": [
       "{'Model': LogisticRegression(),\n",
       " 'Params': {'C': 1.0,\n",
       "  'class_weight': None,\n",
       "  'dual': False,\n",
       "  'fit_intercept': True,\n",
       "  'intercept_scaling': 1,\n",
       "  'l1_ratio': None,\n",
       "  'max_iter': 100,\n",
       "  'multi_class': 'auto',\n",
       "  'n_jobs': None,\n",
       "  'penalty': 'l2',\n",
       "  'random_state': None,\n",
       "  'solver': 'lbfgs',\n",
       "  'tol': 0.0001,\n",
       "  'verbose': 0,\n",
       "  'warm_start': False},\n",
       " 'Accuracy': 0.7511244377811095,\n",
       " 'F1_score': 0.45394736842105265,\n",
       " 'Precision': 0.33014354066985646,\n",
       " 'Recall': 0.7263157894736842}"
      ]
     },
     "execution_count": 8,
     "metadata": {},
     "output_type": "execute_result"
    }
   ],
   "source": [
    "lr = LogisticRegression(solver='lbfgs')\n",
    "lr.fit(X_train_SM,y_train_SM)\n",
    "lr_preds = lr.predict(X_test_scaled)\n",
    "scoreboard(lr,y_test,lr_preds)"
   ]
  },
  {
   "cell_type": "markdown",
   "metadata": {},
   "source": [
    "### KNN"
   ]
  },
  {
   "cell_type": "code",
   "execution_count": 9,
   "metadata": {},
   "outputs": [
    {
     "data": {
      "text/plain": [
       "{'Model': KNeighborsClassifier(),\n",
       " 'Params': {'algorithm': 'auto',\n",
       "  'leaf_size': 30,\n",
       "  'metric': 'minkowski',\n",
       "  'metric_params': None,\n",
       "  'n_jobs': None,\n",
       "  'n_neighbors': 5,\n",
       "  'p': 2,\n",
       "  'weights': 'uniform'},\n",
       " 'Accuracy': 0.7916041979010495,\n",
       " 'F1_score': 0.4908424908424908,\n",
       " 'Precision': 0.37640449438202245,\n",
       " 'Recall': 0.7052631578947368}"
      ]
     },
     "execution_count": 9,
     "metadata": {},
     "output_type": "execute_result"
    }
   ],
   "source": [
    "knn = KNeighborsClassifier()\n",
    "knn.fit(X_train_SM,y_train_SM)\n",
    "knn_preds = knn.predict(X_test_scaled)\n",
    "scoreboard(knn,y_test,knn_preds)"
   ]
  },
  {
   "cell_type": "markdown",
   "metadata": {},
   "source": [
    "### Support Vector"
   ]
  },
  {
   "cell_type": "code",
   "execution_count": 10,
   "metadata": {},
   "outputs": [
    {
     "data": {
      "text/plain": [
       "{'Model': SVC(),\n",
       " 'Params': {'C': 1.0,\n",
       "  'break_ties': False,\n",
       "  'cache_size': 200,\n",
       "  'class_weight': None,\n",
       "  'coef0': 0.0,\n",
       "  'decision_function_shape': 'ovr',\n",
       "  'degree': 3,\n",
       "  'gamma': 'scale',\n",
       "  'kernel': 'rbf',\n",
       "  'max_iter': -1,\n",
       "  'probability': False,\n",
       "  'random_state': None,\n",
       "  'shrinking': True,\n",
       "  'tol': 0.001,\n",
       "  'verbose': False},\n",
       " 'Accuracy': 0.9025487256371814,\n",
       " 'F1_score': 0.6798029556650247,\n",
       " 'Precision': 0.6388888888888888,\n",
       " 'Recall': 0.7263157894736842}"
      ]
     },
     "execution_count": 10,
     "metadata": {},
     "output_type": "execute_result"
    }
   ],
   "source": [
    "svc = SVC()\n",
    "svc.fit(X_train_SM,y_train_SM)\n",
    "svc_preds = svc.predict(X_test_scaled)\n",
    "scoreboard(svc,y_test,svc_preds)"
   ]
  },
  {
   "cell_type": "markdown",
   "metadata": {},
   "source": [
    "### Decision tree"
   ]
  },
  {
   "cell_type": "code",
   "execution_count": 11,
   "metadata": {},
   "outputs": [
    {
     "data": {
      "text/plain": [
       "{'Model': DecisionTreeClassifier(),\n",
       " 'Params': {'ccp_alpha': 0.0,\n",
       "  'class_weight': None,\n",
       "  'criterion': 'gini',\n",
       "  'max_depth': None,\n",
       "  'max_features': None,\n",
       "  'max_leaf_nodes': None,\n",
       "  'min_impurity_decrease': 0.0,\n",
       "  'min_impurity_split': None,\n",
       "  'min_samples_leaf': 1,\n",
       "  'min_samples_split': 2,\n",
       "  'min_weight_fraction_leaf': 0.0,\n",
       "  'presort': 'deprecated',\n",
       "  'random_state': None,\n",
       "  'splitter': 'best'},\n",
       " 'Accuracy': 0.8770614692653673,\n",
       " 'F1_score': 0.6272727272727273,\n",
       " 'Precision': 0.552,\n",
       " 'Recall': 0.7263157894736842}"
      ]
     },
     "execution_count": 11,
     "metadata": {},
     "output_type": "execute_result"
    }
   ],
   "source": [
    "dt = DecisionTreeClassifier()\n",
    "dt.fit(X_train_SM,y_train_SM)\n",
    "dt_preds = dt.predict(X_test_scaled)\n",
    "scoreboard(dt,y_test,dt_preds)"
   ]
  },
  {
   "cell_type": "code",
   "execution_count": null,
   "metadata": {},
   "outputs": [],
   "source": []
  }
 ],
 "metadata": {
  "kernelspec": {
   "display_name": "Python 3",
   "language": "python",
   "name": "python3"
  },
  "language_info": {
   "codemirror_mode": {
    "name": "ipython",
    "version": 3
   },
   "file_extension": ".py",
   "mimetype": "text/x-python",
   "name": "python",
   "nbconvert_exporter": "python",
   "pygments_lexer": "ipython3",
   "version": "3.7.4"
  }
 },
 "nbformat": 4,
 "nbformat_minor": 2
}
