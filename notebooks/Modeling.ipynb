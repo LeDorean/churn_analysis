{
 "cells": [
  {
   "cell_type": "code",
   "execution_count": 1,
   "metadata": {},
   "outputs": [],
   "source": [
    "# importing libraries\n",
    "import pandas as pd\n",
    "import numpy as np\n",
    "import matplotlib.pyplot as plt\n",
    "import seaborn as sns\n",
    "import itertools\n",
    "%matplotlib inline \n",
    "\n",
    "# preprocessing\n",
    "from sklearn.preprocessing import StandardScaler\n",
    "\n",
    "# models\n",
    "from sklearn.linear_model import LogisticRegression\n",
    "from sklearn.neighbors import KNeighborsClassifier\n",
    "from sklearn.tree import DecisionTreeClassifier\n",
    "from sklearn.svm import SVC\n",
    "\n",
    "# model tuning\n",
    "from sklearn.model_selection import train_test_split\n",
    "from sklearn.model_selection import GridSearchCV\n",
    "from sklearn.model_selection import StratifiedKFold\n",
    "\n",
    "# ensembles\n",
    "from sklearn.ensemble import RandomForestClassifier\n",
    "from sklearn.ensemble import BaggingClassifier\n",
    "from sklearn.ensemble import AdaBoostClassifier\n",
    "from sklearn.ensemble import VotingClassifier\n",
    "from sklearn.ensemble import GradientBoostingClassifier\n",
    "\n",
    "\n",
    "# class imbalance\n",
    "from sklearn.dummy import DummyClassifier\n",
    "from sklearn.utils import resample\n",
    "from imblearn.over_sampling import SMOTE\n",
    "from imblearn.under_sampling import TomekLinks\n",
    "\n",
    "# evaluating models\n",
    "from sklearn.metrics import f1_score, precision_score, recall_score, accuracy_score, confusion_matrix\n",
    "\n",
    "import warnings\n",
    "warnings.filterwarnings('ignore')\n",
    "\n",
    "df = pd.read_csv('../data/preprocessed_cutomer_data.csv',index_col=0)\n",
    "extra_features = pd.read_csv('../data/new_features.csv',index_col=0)"
   ]
  },
  {
   "cell_type": "code",
   "execution_count": 2,
   "metadata": {},
   "outputs": [],
   "source": [
    "# train test split\n",
    "X = df.drop(columns=['churn'])\n",
    "y = df['churn']\n",
    "X_train, X_test, y_train, y_test = train_test_split(X,y,test_size=.20,random_state=10)"
   ]
  },
  {
   "cell_type": "code",
   "execution_count": 3,
   "metadata": {},
   "outputs": [],
   "source": [
    "# scaling\n",
    "scaler = StandardScaler()\n",
    "X_train_scaled = pd.DataFrame(scaler.fit_transform(X_train),columns=[X_train.columns])\n",
    "X_test_scaled = pd.DataFrame(scaler.transform(X_test),columns=[X_test.columns])"
   ]
  },
  {
   "cell_type": "code",
   "execution_count": 4,
   "metadata": {},
   "outputs": [],
   "source": [
    "# using SMOTE to reduce class imbalance\n",
    "sm = SMOTE(random_state=64)\n",
    "X_train_SM, y_train_SM = sm.fit_sample(X_train_scaled, y_train)\n",
    "X_train_SM = pd.DataFrame(X_train_SM,columns=X_train_scaled.columns)"
   ]
  },
  {
   "cell_type": "markdown",
   "metadata": {},
   "source": [
    "## Modeling"
   ]
  },
  {
   "cell_type": "code",
   "execution_count": 5,
   "metadata": {},
   "outputs": [],
   "source": [
    "models_data = []\n",
    "def scoreboard(classifier,y_true, y_pred):\n",
    "    ''' \n",
    "    returns classifier name, params and\n",
    "    calculates and returns Accuracy, F1 score, Precision, and Recall using sklearn\n",
    "    '''    \n",
    "    model_summary = {'Model': classifier,\n",
    "                     'Params': classifier.get_params(),\n",
    "                     'Accuracy':accuracy_score(y_true, y_pred),\n",
    "                     'F1_score':f1_score(y_true, y_pred),\n",
    "                     'Precision':precision_score(y_true, y_pred),\n",
    "                     'Recall':recall_score(y_true, y_pred)}\n",
    "\n",
    "    models_data.append(model_summary)\n",
    "    return model_summary\n",
    "\n",
    "def justscore(y_true, y_pred):\n",
    "    ''' \n",
    "    \n",
    "    calculates and returns Accuracy, F1 score, Precision, and Recall using sklearn\n",
    "    '''    \n",
    "    model_summary = {\n",
    "                     \n",
    "                     'Accuracy':accuracy_score(y_true, y_pred),\n",
    "                     'F1_score':f1_score(y_true, y_pred),\n",
    "                     'Precision':precision_score(y_true, y_pred),\n",
    "                     'Recall':recall_score(y_true, y_pred)}\n",
    "\n",
    "\n",
    "    return model_summary"
   ]
  },
  {
   "cell_type": "markdown",
   "metadata": {},
   "source": [
    "### Logistic Regression"
   ]
  },
  {
   "cell_type": "code",
   "execution_count": 6,
   "metadata": {},
   "outputs": [
    {
     "data": {
      "text/plain": [
       "{'Model': LogisticRegression(),\n",
       " 'Params': {'C': 1.0,\n",
       "  'class_weight': None,\n",
       "  'dual': False,\n",
       "  'fit_intercept': True,\n",
       "  'intercept_scaling': 1,\n",
       "  'l1_ratio': None,\n",
       "  'max_iter': 100,\n",
       "  'multi_class': 'auto',\n",
       "  'n_jobs': None,\n",
       "  'penalty': 'l2',\n",
       "  'random_state': None,\n",
       "  'solver': 'lbfgs',\n",
       "  'tol': 0.0001,\n",
       "  'verbose': 0,\n",
       "  'warm_start': False},\n",
       " 'Accuracy': 0.7511244377811095,\n",
       " 'F1_score': 0.45394736842105265,\n",
       " 'Precision': 0.33014354066985646,\n",
       " 'Recall': 0.7263157894736842}"
      ]
     },
     "execution_count": 6,
     "metadata": {},
     "output_type": "execute_result"
    }
   ],
   "source": [
    "lr = LogisticRegression(solver='lbfgs')\n",
    "lr.fit(X_train_SM,y_train_SM)\n",
    "lr_preds = lr.predict(X_test_scaled)\n",
    "scoreboard(lr,y_test,lr_preds)"
   ]
  },
  {
   "cell_type": "markdown",
   "metadata": {},
   "source": [
    "### KNN"
   ]
  },
  {
   "cell_type": "code",
   "execution_count": 7,
   "metadata": {},
   "outputs": [
    {
     "data": {
      "text/plain": [
       "{'Model': KNeighborsClassifier(),\n",
       " 'Params': {'algorithm': 'auto',\n",
       "  'leaf_size': 30,\n",
       "  'metric': 'minkowski',\n",
       "  'metric_params': None,\n",
       "  'n_jobs': None,\n",
       "  'n_neighbors': 5,\n",
       "  'p': 2,\n",
       "  'weights': 'uniform'},\n",
       " 'Accuracy': 0.7916041979010495,\n",
       " 'F1_score': 0.4908424908424908,\n",
       " 'Precision': 0.37640449438202245,\n",
       " 'Recall': 0.7052631578947368}"
      ]
     },
     "execution_count": 7,
     "metadata": {},
     "output_type": "execute_result"
    }
   ],
   "source": [
    "knn = KNeighborsClassifier()\n",
    "knn.fit(X_train_SM,y_train_SM)\n",
    "knn_preds = knn.predict(X_test_scaled)\n",
    "scoreboard(knn,y_test,knn_preds)"
   ]
  },
  {
   "cell_type": "markdown",
   "metadata": {},
   "source": [
    "### Support Vector"
   ]
  },
  {
   "cell_type": "code",
   "execution_count": 8,
   "metadata": {},
   "outputs": [
    {
     "data": {
      "text/plain": [
       "{'Model': SVC(),\n",
       " 'Params': {'C': 1.0,\n",
       "  'break_ties': False,\n",
       "  'cache_size': 200,\n",
       "  'class_weight': None,\n",
       "  'coef0': 0.0,\n",
       "  'decision_function_shape': 'ovr',\n",
       "  'degree': 3,\n",
       "  'gamma': 'scale',\n",
       "  'kernel': 'rbf',\n",
       "  'max_iter': -1,\n",
       "  'probability': False,\n",
       "  'random_state': None,\n",
       "  'shrinking': True,\n",
       "  'tol': 0.001,\n",
       "  'verbose': False},\n",
       " 'Accuracy': 0.9025487256371814,\n",
       " 'F1_score': 0.6798029556650247,\n",
       " 'Precision': 0.6388888888888888,\n",
       " 'Recall': 0.7263157894736842}"
      ]
     },
     "execution_count": 8,
     "metadata": {},
     "output_type": "execute_result"
    }
   ],
   "source": [
    "svc = SVC()\n",
    "svc.fit(X_train_SM,y_train_SM)\n",
    "svc_preds = svc.predict(X_test_scaled)\n",
    "scoreboard(svc,y_test,svc_preds)"
   ]
  },
  {
   "cell_type": "markdown",
   "metadata": {},
   "source": [
    "### Decision tree"
   ]
  },
  {
   "cell_type": "code",
   "execution_count": 9,
   "metadata": {},
   "outputs": [
    {
     "data": {
      "text/plain": [
       "{'Model': DecisionTreeClassifier(),\n",
       " 'Params': {'ccp_alpha': 0.0,\n",
       "  'class_weight': None,\n",
       "  'criterion': 'gini',\n",
       "  'max_depth': None,\n",
       "  'max_features': None,\n",
       "  'max_leaf_nodes': None,\n",
       "  'min_impurity_decrease': 0.0,\n",
       "  'min_impurity_split': None,\n",
       "  'min_samples_leaf': 1,\n",
       "  'min_samples_split': 2,\n",
       "  'min_weight_fraction_leaf': 0.0,\n",
       "  'presort': 'deprecated',\n",
       "  'random_state': None,\n",
       "  'splitter': 'best'},\n",
       " 'Accuracy': 0.8860569715142429,\n",
       " 'F1_score': 0.6481481481481481,\n",
       " 'Precision': 0.5785123966942148,\n",
       " 'Recall': 0.7368421052631579}"
      ]
     },
     "execution_count": 9,
     "metadata": {},
     "output_type": "execute_result"
    }
   ],
   "source": [
    "dt = DecisionTreeClassifier()\n",
    "dt.fit(X_train_SM,y_train_SM)\n",
    "dt_preds = dt.predict(X_test_scaled)\n",
    "scoreboard(dt,y_test,dt_preds)"
   ]
  },
  {
   "cell_type": "markdown",
   "metadata": {},
   "source": [
    "## Gridsearch"
   ]
  },
  {
   "cell_type": "markdown",
   "metadata": {},
   "source": [
    "### Decision Tree"
   ]
  },
  {
   "cell_type": "code",
   "execution_count": 10,
   "metadata": {},
   "outputs": [
    {
     "name": "stdout",
     "output_type": "stream",
     "text": [
      "Fitting 5 folds for each of 8 candidates, totalling 40 fits\n"
     ]
    },
    {
     "name": "stderr",
     "output_type": "stream",
     "text": [
      "[Parallel(n_jobs=1)]: Using backend SequentialBackend with 1 concurrent workers.\n",
      "[Parallel(n_jobs=1)]: Done  40 out of  40 | elapsed:    1.1s finished\n"
     ]
    },
    {
     "data": {
      "text/plain": [
       "GridSearchCV(cv=5, estimator=DecisionTreeClassifier(),\n",
       "             param_grid={'criterion': ('gini', 'entropy'),\n",
       "                         'max_depth': [1, 2, 5, 10]},\n",
       "             verbose=1)"
      ]
     },
     "execution_count": 10,
     "metadata": {},
     "output_type": "execute_result"
    }
   ],
   "source": [
    "parameters = {'criterion':('gini', 'entropy'), 'max_depth':[1,2,5,10]}\n",
    "gs = GridSearchCV(DecisionTreeClassifier(),param_grid=parameters,verbose=1,cv=5)\n",
    "gs.fit(X_train_SM,y_train_SM)"
   ]
  },
  {
   "cell_type": "code",
   "execution_count": 11,
   "metadata": {},
   "outputs": [],
   "source": [
    "gsb = gs.best_estimator_"
   ]
  },
  {
   "cell_type": "code",
   "execution_count": 12,
   "metadata": {},
   "outputs": [
    {
     "data": {
      "text/plain": [
       "{'Model': GridSearchCV(cv=5, estimator=DecisionTreeClassifier(),\n",
       "              param_grid={'criterion': ('gini', 'entropy'),\n",
       "                          'max_depth': [1, 2, 5, 10]},\n",
       "              verbose=1),\n",
       " 'Params': {'cv': 5,\n",
       "  'error_score': nan,\n",
       "  'estimator__ccp_alpha': 0.0,\n",
       "  'estimator__class_weight': None,\n",
       "  'estimator__criterion': 'gini',\n",
       "  'estimator__max_depth': None,\n",
       "  'estimator__max_features': None,\n",
       "  'estimator__max_leaf_nodes': None,\n",
       "  'estimator__min_impurity_decrease': 0.0,\n",
       "  'estimator__min_impurity_split': None,\n",
       "  'estimator__min_samples_leaf': 1,\n",
       "  'estimator__min_samples_split': 2,\n",
       "  'estimator__min_weight_fraction_leaf': 0.0,\n",
       "  'estimator__presort': 'deprecated',\n",
       "  'estimator__random_state': None,\n",
       "  'estimator__splitter': 'best',\n",
       "  'estimator': DecisionTreeClassifier(),\n",
       "  'iid': 'deprecated',\n",
       "  'n_jobs': None,\n",
       "  'param_grid': {'criterion': ('gini', 'entropy'), 'max_depth': [1, 2, 5, 10]},\n",
       "  'pre_dispatch': '2*n_jobs',\n",
       "  'refit': True,\n",
       "  'return_train_score': False,\n",
       "  'scoring': None,\n",
       "  'verbose': 1},\n",
       " 'Accuracy': 0.9340329835082459,\n",
       " 'F1_score': 0.7659574468085107,\n",
       " 'Precision': 0.7741935483870968,\n",
       " 'Recall': 0.7578947368421053}"
      ]
     },
     "execution_count": 12,
     "metadata": {},
     "output_type": "execute_result"
    }
   ],
   "source": [
    "gs_preds = gs.best_estimator_.predict(X_test_scaled)\n",
    "scoreboard(gs,y_test,gs_preds)"
   ]
  },
  {
   "cell_type": "markdown",
   "metadata": {},
   "source": [
    "### Random Forest"
   ]
  },
  {
   "cell_type": "code",
   "execution_count": 13,
   "metadata": {
    "scrolled": true
   },
   "outputs": [
    {
     "data": {
      "text/plain": [
       "{'Model': RandomForestClassifier(n_estimators=1000, random_state=23),\n",
       " 'Params': {'bootstrap': True,\n",
       "  'ccp_alpha': 0.0,\n",
       "  'class_weight': None,\n",
       "  'criterion': 'gini',\n",
       "  'max_depth': None,\n",
       "  'max_features': 'auto',\n",
       "  'max_leaf_nodes': None,\n",
       "  'max_samples': None,\n",
       "  'min_impurity_decrease': 0.0,\n",
       "  'min_impurity_split': None,\n",
       "  'min_samples_leaf': 1,\n",
       "  'min_samples_split': 2,\n",
       "  'min_weight_fraction_leaf': 0.0,\n",
       "  'n_estimators': 1000,\n",
       "  'n_jobs': None,\n",
       "  'oob_score': False,\n",
       "  'random_state': 23,\n",
       "  'verbose': 0,\n",
       "  'warm_start': False},\n",
       " 'Accuracy': 0.9475262368815592,\n",
       " 'F1_score': 0.8205128205128205,\n",
       " 'Precision': 0.8,\n",
       " 'Recall': 0.8421052631578947}"
      ]
     },
     "execution_count": 13,
     "metadata": {},
     "output_type": "execute_result"
    }
   ],
   "source": [
    "rf = RandomForestClassifier(n_estimators=1000,random_state=23)\n",
    "rf.fit(X_train_SM,y_train_SM)\n",
    "rf_preds = rf.predict(X_test_scaled)\n",
    "scoreboard(rf,y_test,rf_preds)"
   ]
  },
  {
   "cell_type": "code",
   "execution_count": 14,
   "metadata": {},
   "outputs": [],
   "source": [
    "grf = RandomForestClassifier()\n",
    "gsrf_params = {'bootstrap':[True, False],\n",
    "               'criterion':['gini','entropy'],\n",
    "               'max_depth':[None,1,5,10,25],\n",
    "               'max_features':['auto',3,8,17],\n",
    "               'max_leaf_nodes':[None,2,5,10],\n",
    "               'min_impurity_split':[None,.001,.1,1],\n",
    "               'min_samples_leaf':[1,5,10] ,\n",
    "               'min_samples_split':[2,5,10] ,\n",
    "               'n_estimators':[10,50],\n",
    "               'random_state':[23],\n",
    "               'warm_start':[False,True],\n",
    "               'class_weight':[None,'balanced']}\n",
    "gs_rf = GridSearchCV(grf,gsrf_params,verbose=1,n_jobs=-1)"
   ]
  },
  {
   "cell_type": "code",
   "execution_count": 19,
   "metadata": {},
   "outputs": [],
   "source": [
    "gs_rf_result  = RandomForestClassifier(bootstrap=False, class_weight=None,\n",
    "                       criterion='entropy', max_depth=None, max_features=3,\n",
    "                       max_leaf_nodes=None,\n",
    "                       min_impurity_decrease=0.0, min_impurity_split=None,\n",
    "                       min_samples_leaf=1, min_samples_split=2,\n",
    "                       min_weight_fraction_leaf=0.0, n_estimators=50,\n",
    "                       n_jobs=None, oob_score=False, random_state=23, verbose=0,\n",
    "                       warm_start=False)"
   ]
  },
  {
   "cell_type": "code",
   "execution_count": 20,
   "metadata": {},
   "outputs": [
    {
     "data": {
      "text/plain": [
       "{'Model': RandomForestClassifier(bootstrap=False, criterion='entropy', max_features=3,\n",
       "                        n_estimators=50, random_state=23),\n",
       " 'Params': {'bootstrap': False,\n",
       "  'ccp_alpha': 0.0,\n",
       "  'class_weight': None,\n",
       "  'criterion': 'entropy',\n",
       "  'max_depth': None,\n",
       "  'max_features': 3,\n",
       "  'max_leaf_nodes': None,\n",
       "  'max_samples': None,\n",
       "  'min_impurity_decrease': 0.0,\n",
       "  'min_impurity_split': None,\n",
       "  'min_samples_leaf': 1,\n",
       "  'min_samples_split': 2,\n",
       "  'min_weight_fraction_leaf': 0.0,\n",
       "  'n_estimators': 50,\n",
       "  'n_jobs': None,\n",
       "  'oob_score': False,\n",
       "  'random_state': 23,\n",
       "  'verbose': 0,\n",
       "  'warm_start': False},\n",
       " 'Accuracy': 0.9565217391304348,\n",
       " 'F1_score': 0.839779005524862,\n",
       " 'Precision': 0.8837209302325582,\n",
       " 'Recall': 0.8}"
      ]
     },
     "execution_count": 20,
     "metadata": {},
     "output_type": "execute_result"
    }
   ],
   "source": [
    "gs_rf_result.fit(X_train_SM,y_train_SM)\n",
    "gs_rf_preds = gs_rf_result.predict(X_test_scaled)\n",
    "scoreboard(gs_rf_result,y_test,gs_rf_preds)"
   ]
  },
  {
   "cell_type": "markdown",
   "metadata": {},
   "source": [
    "## Summary"
   ]
  },
  {
   "cell_type": "code",
   "execution_count": 21,
   "metadata": {},
   "outputs": [],
   "source": [
    "models_df = pd.DataFrame(models_data)"
   ]
  },
  {
   "cell_type": "code",
   "execution_count": 22,
   "metadata": {},
   "outputs": [
    {
     "data": {
      "text/html": [
       "<div>\n",
       "<style scoped>\n",
       "    .dataframe tbody tr th:only-of-type {\n",
       "        vertical-align: middle;\n",
       "    }\n",
       "\n",
       "    .dataframe tbody tr th {\n",
       "        vertical-align: top;\n",
       "    }\n",
       "\n",
       "    .dataframe thead th {\n",
       "        text-align: right;\n",
       "    }\n",
       "</style>\n",
       "<table border=\"1\" class=\"dataframe\">\n",
       "  <thead>\n",
       "    <tr style=\"text-align: right;\">\n",
       "      <th></th>\n",
       "      <th>Model</th>\n",
       "      <th>Params</th>\n",
       "      <th>Accuracy</th>\n",
       "      <th>F1_score</th>\n",
       "      <th>Precision</th>\n",
       "      <th>Recall</th>\n",
       "    </tr>\n",
       "  </thead>\n",
       "  <tbody>\n",
       "    <tr>\n",
       "      <td>6</td>\n",
       "      <td>(DecisionTreeClassifier(criterion='entropy', m...</td>\n",
       "      <td>{'bootstrap': False, 'ccp_alpha': 0.0, 'class_...</td>\n",
       "      <td>0.956522</td>\n",
       "      <td>0.839779</td>\n",
       "      <td>0.883721</td>\n",
       "      <td>0.800000</td>\n",
       "    </tr>\n",
       "    <tr>\n",
       "      <td>5</td>\n",
       "      <td>(DecisionTreeClassifier(max_features='auto', r...</td>\n",
       "      <td>{'bootstrap': True, 'ccp_alpha': 0.0, 'class_w...</td>\n",
       "      <td>0.947526</td>\n",
       "      <td>0.820513</td>\n",
       "      <td>0.800000</td>\n",
       "      <td>0.842105</td>\n",
       "    </tr>\n",
       "    <tr>\n",
       "      <td>4</td>\n",
       "      <td>GridSearchCV(cv=5, estimator=DecisionTreeClass...</td>\n",
       "      <td>{'cv': 5, 'error_score': nan, 'estimator__ccp_...</td>\n",
       "      <td>0.934033</td>\n",
       "      <td>0.765957</td>\n",
       "      <td>0.774194</td>\n",
       "      <td>0.757895</td>\n",
       "    </tr>\n",
       "    <tr>\n",
       "      <td>2</td>\n",
       "      <td>SVC()</td>\n",
       "      <td>{'C': 1.0, 'break_ties': False, 'cache_size': ...</td>\n",
       "      <td>0.902549</td>\n",
       "      <td>0.679803</td>\n",
       "      <td>0.638889</td>\n",
       "      <td>0.726316</td>\n",
       "    </tr>\n",
       "    <tr>\n",
       "      <td>3</td>\n",
       "      <td>DecisionTreeClassifier()</td>\n",
       "      <td>{'ccp_alpha': 0.0, 'class_weight': None, 'crit...</td>\n",
       "      <td>0.886057</td>\n",
       "      <td>0.648148</td>\n",
       "      <td>0.578512</td>\n",
       "      <td>0.736842</td>\n",
       "    </tr>\n",
       "    <tr>\n",
       "      <td>1</td>\n",
       "      <td>KNeighborsClassifier()</td>\n",
       "      <td>{'algorithm': 'auto', 'leaf_size': 30, 'metric...</td>\n",
       "      <td>0.791604</td>\n",
       "      <td>0.490842</td>\n",
       "      <td>0.376404</td>\n",
       "      <td>0.705263</td>\n",
       "    </tr>\n",
       "    <tr>\n",
       "      <td>0</td>\n",
       "      <td>LogisticRegression()</td>\n",
       "      <td>{'C': 1.0, 'class_weight': None, 'dual': False...</td>\n",
       "      <td>0.751124</td>\n",
       "      <td>0.453947</td>\n",
       "      <td>0.330144</td>\n",
       "      <td>0.726316</td>\n",
       "    </tr>\n",
       "  </tbody>\n",
       "</table>\n",
       "</div>"
      ],
      "text/plain": [
       "                                               Model  \\\n",
       "6  (DecisionTreeClassifier(criterion='entropy', m...   \n",
       "5  (DecisionTreeClassifier(max_features='auto', r...   \n",
       "4  GridSearchCV(cv=5, estimator=DecisionTreeClass...   \n",
       "2                                              SVC()   \n",
       "3                           DecisionTreeClassifier()   \n",
       "1                             KNeighborsClassifier()   \n",
       "0                               LogisticRegression()   \n",
       "\n",
       "                                              Params  Accuracy  F1_score  \\\n",
       "6  {'bootstrap': False, 'ccp_alpha': 0.0, 'class_...  0.956522  0.839779   \n",
       "5  {'bootstrap': True, 'ccp_alpha': 0.0, 'class_w...  0.947526  0.820513   \n",
       "4  {'cv': 5, 'error_score': nan, 'estimator__ccp_...  0.934033  0.765957   \n",
       "2  {'C': 1.0, 'break_ties': False, 'cache_size': ...  0.902549  0.679803   \n",
       "3  {'ccp_alpha': 0.0, 'class_weight': None, 'crit...  0.886057  0.648148   \n",
       "1  {'algorithm': 'auto', 'leaf_size': 30, 'metric...  0.791604  0.490842   \n",
       "0  {'C': 1.0, 'class_weight': None, 'dual': False...  0.751124  0.453947   \n",
       "\n",
       "   Precision    Recall  \n",
       "6   0.883721  0.800000  \n",
       "5   0.800000  0.842105  \n",
       "4   0.774194  0.757895  \n",
       "2   0.638889  0.726316  \n",
       "3   0.578512  0.736842  \n",
       "1   0.376404  0.705263  \n",
       "0   0.330144  0.726316  "
      ]
     },
     "execution_count": 22,
     "metadata": {},
     "output_type": "execute_result"
    }
   ],
   "source": [
    "models_df.sort_values(by=['F1_score'],ascending=False)"
   ]
  },
  {
   "cell_type": "code",
   "execution_count": null,
   "metadata": {},
   "outputs": [],
   "source": []
  }
 ],
 "metadata": {
  "kernelspec": {
   "display_name": "Python 3",
   "language": "python",
   "name": "python3"
  },
  "language_info": {
   "codemirror_mode": {
    "name": "ipython",
    "version": 3
   },
   "file_extension": ".py",
   "mimetype": "text/x-python",
   "name": "python",
   "nbconvert_exporter": "python",
   "pygments_lexer": "ipython3",
   "version": "3.7.4"
  }
 },
 "nbformat": 4,
 "nbformat_minor": 2
}
